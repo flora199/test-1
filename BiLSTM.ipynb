{
 "cells": [
  {
   "attachments": {},
   "cell_type": "markdown",
   "metadata": {},
   "source": [
    "pytorch--BiLSTM \n",
    "双向长短时记忆网络（Bidirectional Long Short-Term Memory Network）"
   ]
  },
  {
   "cell_type": "code",
   "execution_count": null,
   "metadata": {},
   "outputs": [],
   "source": [
    "import torch\n",
    "import torch.nn as nn\n",
    "\n",
    "# 定义 BiLSTM 模型\n",
    "class BiLSTM(nn.Module):\n",
    "    def __init__(self, input_size, hidden_size, output_size):\n",
    "        super(BiLSTM, self).__init__()\n",
    "        self.hidden_size = hidden_size\n",
    "        self.lstm = nn.LSTM(input_size, hidden_size, bidirectional=True)\n",
    "        self.fc = nn.Linear(hidden_size*2, output_size)  # 2 for bidirectional\n",
    "        \n",
    "    def forward(self, input):\n",
    "        output, _ = self.lstm(input)\n",
    "        output = self.fc(output[:, -1, :])  # 取最后一个时间步的输出\n",
    "        return output\n",
    "\n",
    "# 假设 A股 数据有 n 个样本，每个样本有 m 个特征，l 个时间步\n",
    "# 构造输入数据，维度为 [l, n, m]\n",
    "input_data = torch.randn(l, n, m)\n",
    "\n",
    "# 构造模型，假设输出为 1 个值\n",
    "model = BiLSTM(m, hidden_size=64, output_size=1)\n",
    "\n",
    "# 定义损失函数和优化器\n",
    "criterion = nn.MSELoss()\n",
    "optimizer = torch.optim.Adam(model.parameters(), lr=0.001)\n",
    "\n",
    "# 训练模型\n",
    "num_epochs = 10\n",
    "for epoch in range(num_epochs):\n",
    "    optimizer.zero_grad()\n",
    "    output = model(input_data)\n",
    "    loss = criterion(output, target_data)\n",
    "    loss.backward()\n",
    "    optimizer.step()\n",
    "    print('Epoch [{}/{}], Loss: {:.4f}'.format(epoch+1, num_epochs, loss.item()))\n"
   ]
  }
 ],
 "metadata": {
  "kernelspec": {
   "display_name": "Python 3",
   "language": "python",
   "name": "python3"
  },
  "language_info": {
   "name": "python",
   "version": "3.10.6"
  },
  "orig_nbformat": 4
 },
 "nbformat": 4,
 "nbformat_minor": 2
}
